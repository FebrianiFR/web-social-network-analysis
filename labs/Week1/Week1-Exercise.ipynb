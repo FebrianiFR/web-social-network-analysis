{
 "cells": [
  {
   "cell_type": "markdown",
   "id": "882babf6",
   "metadata": {},
   "source": [
    "**Disclaimer**: This educational content, including any code examples, is provided for instructional purposes only. The author does not endorse or encourage the unauthorised or illegal scraping of websites.\n",
    "\n",
    "While Python with releveant libraries can be used for web scraping, it's crucial to conduct scraping activities in compliance with applicable laws, the website's terms of service, and ethical considerations. Always review and respect the rules set by the website you are scraping to ensure legal and responsible data collection practices."
   ]
  },
  {
   "cell_type": "markdown",
   "id": "1f2fb5c0",
   "metadata": {},
   "source": [
    "**IMPORTANT NOTE**: Exercie 2 will ONLY work on your own machine (not via noteable, I think). Also: You'll need to unzip the chrome driver in the folder where your notebook is."
   ]
  },
  {
   "cell_type": "markdown",
   "id": "0b859dfe",
   "metadata": {},
   "source": [
    "# Exercise 1 (Extract Particular Info)"
   ]
  },
  {
   "cell_type": "markdown",
   "id": "9c87d2cc",
   "metadata": {},
   "source": [
    "Just using beautiful soup go to the description of this course and extract the number of SCQF level for it. http://www.drps.ed.ac.uk/24-25/dpt/cxcmse11427.htm"
   ]
  },
  {
   "cell_type": "markdown",
   "id": "403332df",
   "metadata": {},
   "source": [
    "Spoiler alert: the content should be 'SCQF Level ...'."
   ]
  },
  {
   "cell_type": "markdown",
   "id": "7d2911ab",
   "metadata": {},
   "source": [
    "*hint*: you can use in to check for occurance of a word in a sentence"
   ]
  },
  {
   "cell_type": "code",
   "execution_count": 1,
   "id": "fce41b41",
   "metadata": {
    "ExecuteTime": {
     "end_time": "2023-01-15T22:22:41.768973Z",
     "start_time": "2023-01-15T22:22:41.754967Z"
    }
   },
   "outputs": [
    {
     "name": "stdout",
     "output_type": "stream",
     "text": [
      "this sentence has a word banana in it\n"
     ]
    }
   ],
   "source": [
    "if 'banana' in 'a sentence with bananas':\n",
    "    print('this sentence has a word banana in it')\n",
    "\n",
    "# if word in sentence:\n",
    "#     print('this sentence has a word in it')"
   ]
  },
  {
   "cell_type": "code",
   "execution_count": 2,
   "id": "0c32647c",
   "metadata": {
    "ExecuteTime": {
     "end_time": "2023-01-15T22:22:43.374468Z",
     "start_time": "2023-01-15T22:22:43.096736Z"
    },
    "scrolled": true
   },
   "outputs": [],
   "source": [
    "# !pip install bs4\n",
    "from urllib.request import urlopen\n",
    "import os\n",
    "from bs4 import BeautifulSoup"
   ]
  },
  {
   "cell_type": "code",
   "execution_count": 12,
   "id": "8e282009",
   "metadata": {
    "ExecuteTime": {
     "end_time": "2023-01-15T22:22:44.649613Z",
     "start_time": "2023-01-15T22:22:44.493831Z"
    }
   },
   "outputs": [
    {
     "name": "stdout",
     "output_type": "stream",
     "text": [
      "School\n",
      "Business School\n",
      "College\n",
      "College of Arts, Humanities and Social Sciences\n",
      "Credit level (Normal year taken)\n",
      "SCQF Level 11 (Postgraduate)\n",
      "SCQF Level 11 (Postgraduate)\n"
     ]
    }
   ],
   "source": [
    "# website address\n",
    "page = 'http://www.drps.ed.ac.uk/24-25/dpt/cxcmse11427.htm'\n",
    "\n",
    "# open the url and store the website\n",
    "website = urlopen(page)\n",
    "\n",
    "# convert the website's content, for this a parser is needed. In this case a html parser\n",
    "soup = BeautifulSoup(website, 'html.parser')\n",
    "\n",
    "# Retrieve the cell that contains 'SCQF Level'\n",
    "table = soup.find('table', {'class':'sitstablegrid'})\n",
    "for cell in table.findChildren('td'):\n",
    "    print(cell.text)\n",
    "    if 'SCQF Level' in cell.text:\n",
    "        print(cell.text)\n",
    "        break\n",
    "\n",
    "# hints:\n",
    "#     what type of a tag is it in? how can you get all items of that type? \n",
    "#     how will you check if they incude these words?"
   ]
  },
  {
   "cell_type": "markdown",
   "id": "f47fcea4-5629-4847-9e6a-c8a3e0e5bf1c",
   "metadata": {},
   "source": [
    "# Exercise 2 (Extract a Series of info)"
   ]
  },
  {
   "cell_type": "markdown",
   "id": "01a87d00-f792-4f39-8696-b764e1d59b27",
   "metadata": {
    "jp-MarkdownHeadingCollapsed": true
   },
   "source": [
    "Furthermore, Here is MSc BA programme, http://www.drps.ed.ac.uk/24-25/dpt/ptmscbusan1f.htm, there are all courses here, can you find a way to capture all info of all courses?"
   ]
  },
  {
   "cell_type": "code",
   "execution_count": 13,
   "id": "137234d1-d361-4079-b8ab-c39b44b13e9c",
   "metadata": {},
   "outputs": [],
   "source": [
    "# website address\n",
    "page = 'http://www.drps.ed.ac.uk/24-25/dpt/ptmscbusan1f.htm'\n",
    "\n",
    "# open the url and store the website\n",
    "website = urlopen(page)\n",
    "\n",
    "# convert the website's content, for this a parser is needed. In this case a html parser\n",
    "soup = BeautifulSoup(website, 'html.parser')\n",
    "\n"
   ]
  },
  {
   "cell_type": "code",
   "execution_count": null,
   "id": "36d6eb17",
   "metadata": {},
   "outputs": [
    {
     "data": {
      "text/plain": [
       "<!DOCTYPE html>\n",
       "\n",
       "<html>\n",
       "<head>\n",
       "<!-- use stylesheets from DRPS -->\n",
       "<link href=\"http://www.ed.ac.uk/other/styles.css\" rel=\"stylesheet\" type=\"text/css\"/>\n",
       "<link href=\"../css/dp.css\" rel=\"stylesheet\" type=\"text/css\"/>\n",
       "<link href=\"../24-25/dpts/dpt.css\" rel=\"stylesheet\" type=\"text/css\"/>\n",
       "<link href=\"../css/dp-dpt.css\" rel=\"stylesheet\" type=\"text/css\"/>\n",
       "<title>DPT: Business Analytics (MSc) - 1 Year (Full-time) (PTMSCBUSAN1F)</title>\n",
       "<meta content=\"DPT\" name=\"type\"/>\n",
       "<meta content=\"PTMSCBUSAN1F\" name=\"dptcode\"/>\n",
       "<meta content=\"Business Analytics (MSc) - 1 Year (Full-time)\" name=\"dptname\"/>\n",
       "<meta content=\"DPT_CODE=\" name=\"dptschool\"/>\n",
       "</head>\n",
       "<body>\n",
       "<!-- header from DRPS -->\n",
       "<table border=\"0\" cellpadding=\"0\" cellspacing=\"0\" style=\"background-color: #232B5A;\" width=\"100%\">\n",
       "<tr>\n",
       "<td align=\"left\" valign=\"top\" width=\"84\">\n",
       "<a class=\"headertext\" href=\"http://www.ed.ac.uk\"><img alt=\"The University of Edinburgh\" border=\"0\" height=\"84\" id=\"logo\" name=\"logo\" src=\"http://www.drps.ed.ac.uk/images/logo.jpg\" width=\"84\"/></a>\n",
       "</td>\n",
       "<td align=\"left\" width=\"100%\">\n",
       "<h3 class=\"page_title\">THE UNIVERSITY of EDINBURGH</h3>\n",
       "<h1 class=\"page_title\">DEGREE REGULATIONS &amp; PROGRAMMES OF STUDY 2024/2025</h1>\n",
       "<!-- <h3 style =\"color:red\" class=\"page_title\">Draft Edition - Due to be published Thursday 11th April 2024</h3> -->\n",
       "<h3 class=\"page_title\" style=\"color:red\">Timetable information in the Course Catalogue may be subject to change.</h3>\n",
       "</td>\n",
       "<td align=\"left\">\n",
       "<table border=\"0\" cellpadding=\"0\" cellspacing=\"0\" style=\"margin-right:20px;\"><tr>\n",
       "<td style=\"white-space:nowrap\">\n",
       "<a class=\"headertext\" href=\"http://www.ed.ac.uk\"><img alt=\"\" border=\"0\" height=\"11\" src=\"../images/arrow.gif\" width=\"16\"/></a><a class=\"headertext\" href=\"http://www.ed.ac.uk\">University Homepage</a>\n",
       "<br/>\n",
       "<a class=\"headertext\" href=\"../index.php\"><img alt=\"\" border=\"0\" height=\"11\" src=\"../images/arrow.gif\" width=\"16\"/></a><a class=\"headertext\" href=\"../index.php\">DRPS Homepage</a>\n",
       "<br/>\n",
       "<a class=\"headertext\" href=\"cx_search.htm\"><img alt=\"\" border=\"0\" height=\"11\" src=\"../images/arrow.gif\" width=\"16\"/></a><a class=\"headertext\" href=\"cx_search.htm\">DRPS Search</a>\n",
       "<br/>\n",
       "<a class=\"headertext\" href=\"../contact.php\"><img alt=\"\" border=\"0\" height=\"11\" src=\"../images/arrow.gif\" width=\"16\"/></a><a class=\"headertext\" href=\"../contact.php\">DRPS Contact</a>\n",
       "</td></tr>\n",
       "</table>\n",
       "</td></tr>\n",
       "</table>\n",
       "<div class=\"college\">\n",
       "<a href=\"../index.php\">DRPS</a> : <a href=\"drpsindex.htm\">DPTs</a> : \n",
       "    <a href=\"drps_bus.htm\">Business School DPTs</a>\n",
       "</div>\n",
       "<div class=\"container\">\n",
       "<h2 class=\"page-header\">\n",
       "      Degree Programme Table: Business Analytics (MSc) - 1 Year (Full-time)\n",
       "      <small>(PTMSCBUSAN1F)</small>\n",
       "</h2>\n",
       "\n",
       "    Jump to: \n",
       "      <a href=\"#dpt-year-1\">Year 1</a>\n",
       "<h3 class=\"h2\" id=\"dpt-year-1\">\n",
       "        Year 1\n",
       "        <small>\n",
       "          Academic year: 2024/25,\n",
       "          Starting in: September\n",
       "        </small>\n",
       "</h3>\n",
       "<div class=\"dpt-container\">\n",
       "<h4 class=\"h3\">Compulsory courses</h4>\n",
       "<div class=\"panel panel-primary\">\n",
       "<div class=\"dpt-rule__header\">\n",
       "<span class=\"text-nowrap\">You must take these courses</span>\n",
       "</div>\n",
       "<div class=\"dpt-flex dpt-rule__courses panel-footer\">\n",
       "<div class=\"dpt-course-card dpt-flex__item dpt-flex\">\n",
       "<span>\n",
       "<a href=\"cxcmse11433.htm\">Python Programming</a>\n",
       "</span>\n",
       "<p style=\"line-height: 1.2;\"><small>Must be\n",
       "  \n",
       "  \n",
       "  taken during Semester 1\n",
       "  </small></p>\n",
       "<div class=\"dpt-flex dpt-course-card__footer\">\n",
       "<span>CMSE11433</span>\n",
       "<span>10 credits</span>\n",
       "</div>\n",
       "</div>\n",
       "<div class=\"dpt-course-card dpt-flex__item dpt-flex\">\n",
       "<span>\n",
       "<a href=\"cxcmse11428.htm\">Predictive Analytics and Modelling of Data</a>\n",
       "</span>\n",
       "<p style=\"line-height: 1.2;\"><small>Must be\n",
       "  \n",
       "  \n",
       "  taken during Semester 1\n",
       "  </small></p>\n",
       "<div class=\"dpt-flex dpt-course-card__footer\">\n",
       "<span>CMSE11428</span>\n",
       "<span>20 credits</span>\n",
       "</div>\n",
       "</div>\n",
       "<div class=\"dpt-course-card dpt-flex__item dpt-flex\">\n",
       "<span>\n",
       "<a href=\"cxcmse11431.htm\">Prescriptive Analytics with Mathematical Programming</a>\n",
       "</span>\n",
       "<p style=\"line-height: 1.2;\"><small>Must be\n",
       "  \n",
       "  \n",
       "  taken during Semester 1\n",
       "  </small></p>\n",
       "<div class=\"dpt-flex dpt-course-card__footer\">\n",
       "<span>CMSE11431</span>\n",
       "<span>20 credits</span>\n",
       "</div>\n",
       "</div>\n",
       "<div class=\"dpt-course-card dpt-flex__item dpt-flex\">\n",
       "<span>\n",
       "<a href=\"cxcmse11432.htm\">Principles of Data Analytics</a>\n",
       "</span>\n",
       "<p style=\"line-height: 1.2;\"><small>Must be\n",
       "  \n",
       "  \n",
       "  taken during Block 1 (Sem 1)\n",
       "  </small></p>\n",
       "<div class=\"dpt-flex dpt-course-card__footer\">\n",
       "<span>CMSE11432</span>\n",
       "<span>10 credits</span>\n",
       "</div>\n",
       "</div>\n",
       "<div class=\"dpt-course-card dpt-flex__item dpt-flex\">\n",
       "<span>\n",
       "<a href=\"cxcmse11348.htm\">Dissertation (MSc in Business Analytics)</a>\n",
       "</span>\n",
       "<p style=\"line-height: 1.2;\"><small>Must be\n",
       "  passed at 50%\n",
       "  and\n",
       "  taken during Block 5 (Sem 2) and beyond\n",
       "  </small></p>\n",
       "<div class=\"dpt-flex dpt-course-card__footer\">\n",
       "<span>CMSE11348</span>\n",
       "<span>60 credits</span>\n",
       "</div>\n",
       "</div>\n",
       "<div style=\"flex-grow: 1;\"></div>\n",
       "</div>\n",
       "</div>\n",
       "<h4 class=\"h3\">Course options</h4>\n",
       "<div class=\"panel panel-primary\">\n",
       "<div class=\"panel-heading dpt-rule__header\">\n",
       "<h3 class=\"h5 dpt-rule__title\">MSc Business Analytics Option Courses</h3>\n",
       "</div>\n",
       "<div class=\"dpt-rule__header\">\n",
       "<span class=\"text-nowrap\">\n",
       "      \n",
       "        Select exactly 60 credits\n",
       "      \n",
       "\n",
       "      of the following courses\n",
       "      \n",
       "      \n",
       "      \n",
       "    </span>\n",
       "</div>\n",
       "<div class=\"dpt-help dpt-help--rule\">\n",
       "<span class=\"dpt-help__header\">Notes:</span>\n",
       "<div data-uoeid=\"rule-help\">The following courses represent the semester 2 option course selection for the 2024/25 programme. Not all option courses will run in a particular year and are subject to change and/or demand.<br/>\n",
       "<br/>\n",
       "Courses may run over the full semester or in 5 week blocks. Review individual course descriptors for the semester delivery information and any pre- or co-requisites.</div>\n",
       "</div>\n",
       "<div class=\"dpt-flex dpt-rule__courses panel-footer\">\n",
       "<div class=\"dpt-course-card dpt-flex__item dpt-flex\">\n",
       "<span>\n",
       "<a href=\"cxcmse11426.htm\">Simulation Modelling and Analysis</a>\n",
       "</span>\n",
       "<div class=\"dpt-flex dpt-course-card__footer\">\n",
       "<span>CMSE11426</span>\n",
       "<span>10 credits</span>\n",
       "</div>\n",
       "</div>\n",
       "<div class=\"dpt-course-card dpt-flex__item dpt-flex\">\n",
       "<span>\n",
       "<a href=\"cxcmse11427.htm\">Web and Social Network Analytics</a>\n",
       "</span>\n",
       "<div class=\"dpt-flex dpt-course-card__footer\">\n",
       "<span>CMSE11427</span>\n",
       "<span>10 credits</span>\n",
       "</div>\n",
       "</div>\n",
       "<div class=\"dpt-course-card dpt-flex__item dpt-flex\">\n",
       "<span>\n",
       "<a href=\"cxcmse11448.htm\">Soft Computing</a>\n",
       "</span>\n",
       "<div class=\"dpt-flex dpt-course-card__footer\">\n",
       "<span>CMSE11448</span>\n",
       "<span>10 credits</span>\n",
       "</div>\n",
       "</div>\n",
       "<div class=\"dpt-course-card dpt-flex__item dpt-flex\">\n",
       "<span>\n",
       "<a href=\"cxcmse11450.htm\">Industrial Organisation</a>\n",
       "</span>\n",
       "<div class=\"dpt-flex dpt-course-card__footer\">\n",
       "<span>CMSE11450</span>\n",
       "<span>10 credits</span>\n",
       "</div>\n",
       "</div>\n",
       "<div class=\"dpt-course-card dpt-flex__item dpt-flex\">\n",
       "<span>\n",
       "<a href=\"cxcmse11641.htm\">Prescriptive Analytics in Humanitarian Logistics</a>\n",
       "</span>\n",
       "<div class=\"dpt-flex dpt-course-card__footer\">\n",
       "<span>CMSE11641</span>\n",
       "<span>20 credits</span>\n",
       "</div>\n",
       "</div>\n",
       "<div class=\"dpt-course-card dpt-flex__item dpt-flex\">\n",
       "<span>\n",
       "<a href=\"cxcmse11652.htm\">Prescriptive Analytics with Stochastic Programming</a>\n",
       "</span>\n",
       "<div class=\"dpt-flex dpt-course-card__footer\">\n",
       "<span>CMSE11652</span>\n",
       "<span>20 credits</span>\n",
       "</div>\n",
       "</div>\n",
       "<div class=\"dpt-course-card dpt-flex__item dpt-flex\">\n",
       "<span>\n",
       "<a href=\"cxcmse11653.htm\">Performance Analytics with DEA</a>\n",
       "</span>\n",
       "<div class=\"dpt-flex dpt-course-card__footer\">\n",
       "<span>CMSE11653</span>\n",
       "<span>20 credits</span>\n",
       "</div>\n",
       "</div>\n",
       "<div class=\"dpt-course-card dpt-flex__item dpt-flex\">\n",
       "<span>\n",
       "<a href=\"cxcmse11654.htm\">Large Language Models in Business Analytics</a>\n",
       "</span>\n",
       "<div class=\"dpt-flex dpt-course-card__footer\">\n",
       "<span>CMSE11654</span>\n",
       "<span>10 credits</span>\n",
       "</div>\n",
       "</div>\n",
       "<div class=\"dpt-course-card dpt-flex__item dpt-flex\">\n",
       "<span>\n",
       "<a href=\"cxcmse11658.htm\">Analytics of Decision Making under Multiple Criteria</a>\n",
       "</span>\n",
       "<div class=\"dpt-flex dpt-course-card__footer\">\n",
       "<span>CMSE11658</span>\n",
       "<span>20 credits</span>\n",
       "</div>\n",
       "</div>\n",
       "<div style=\"flex-grow: 1;\"></div>\n",
       "</div>\n",
       "</div>\n",
       "<hr class=\"dashed\"/>\n",
       "</div>\n",
       "<div class=\"h3\">\n",
       "<strong><a href=\"../regulations/disclaimer.php\">General Disclaimer</a></strong>\n",
       "</div>\n",
       "</div>\n",
       "<div class=\"footer\">\n",
       "<div style=\"float:right\">\n",
       "<a href=\"http://www.ed.ac.uk/about/website/privacy\">Privacy &amp; cookies</a>\n",
       "</div>\n",
       "<em>© Copyright 2024 The University of Edinburgh -  14 January 2025 8:20 pm</em>\n",
       "</div>\n",
       "<script async=\"\" src=\"https://www.googletagmanager.com/gtag/js?id=trackingCode\">\n",
       "  var trackingCode = window.location.hostname.substr(0, 4) === 'www.' ? 'G-9VG3160DSR' : 'G-J3QFR7R34Z';\n",
       "  </script>\n",
       "<script>\n",
       "  var key = window.location.hostname.substr(0, 4) === 'www.' ? 'G-9VG3160DSR' : 'G-J3QFR7R34Z';\n",
       "    window.dataLayer = window.dataLayer || [];\n",
       "    function gtag(){dataLayer.push(arguments);}\n",
       "    gtag('js', new Date());\n",
       "  \n",
       "    gtag('config', key);\n",
       "  </script>\n",
       "<script>\n",
       "  var key = window.location.hostname.substr(0, 4) === 'www.' ? 'GTM-M38Z4T4' : 'GTM-KC9RP53';\n",
       "  (function(w,d,s,l,i){w[l]=w[l]||[];w[l].push({'gtm.start':\n",
       "  new Date().getTime(),event:'gtm.js'});var f=d.getElementsByTagName(s)[0],\n",
       "  j=d.createElement(s),dl=l!='dataLayer'?'&l='+l:'';j.async=true;j.src=\n",
       "  'https://www.googletagmanager.com/gtm.js?id='+i+dl;f.parentNode.insertBefore(j,f);\n",
       "  })(window,document,'script','dataLayer',key);</script>\n",
       "</body>\n",
       "</html>"
      ]
     },
     "execution_count": 14,
     "metadata": {},
     "output_type": "execute_result"
    }
   ],
   "source": []
  },
  {
   "cell_type": "code",
   "execution_count": null,
   "id": "30de5892-7be8-41f0-9e29-4592441131ad",
   "metadata": {},
   "outputs": [
    {
     "name": "stdout",
     "output_type": "stream",
     "text": [
      "Python Programming\n",
      "Predictive Analytics and Modelling of Data\n",
      "Prescriptive Analytics with Mathematical Programming\n",
      "Principles of Data Analytics\n",
      "Dissertation (MSc in Business Analytics)\n",
      "Simulation Modelling and Analysis\n",
      "Web and Social Network Analytics\n",
      "Soft Computing\n",
      "Industrial Organisation\n",
      "Prescriptive Analytics in Humanitarian Logistics\n",
      "Prescriptive Analytics with Stochastic Programming\n",
      "Performance Analytics with DEA\n",
      "Large Language Models in Business Analytics\n",
      "Analytics of Decision Making under Multiple Criteria\n"
     ]
    }
   ],
   "source": [
    "# Find all course cards, check the website!\n",
    "courses = soup.find_all('div', class_='dpt-course-card')\n",
    "\n",
    "for course in courses:\n",
    "    cn = course.find(\"a\").get_text()\n",
    "    print(cn)\n",
    "    "
   ]
  },
  {
   "cell_type": "markdown",
   "id": "c0d8b631",
   "metadata": {
    "ExecuteTime": {
     "end_time": "2023-01-15T22:20:09.653625Z",
     "start_time": "2023-01-15T22:20:09.644635Z"
    }
   },
   "source": [
    "# Exercise 3: Get Review from Google Maps"
   ]
  },
  {
   "cell_type": "markdown",
   "id": "f3b7ba71-76e7-4eb8-afee-129700c620e7",
   "metadata": {},
   "source": [
    "**ONLY in your own machine**"
   ]
  },
  {
   "cell_type": "markdown",
   "id": "711600fb",
   "metadata": {},
   "source": [
    "Again, we hope to find all reviews of Edinburgh castle, but now we don't have API key. \n",
    "\n",
    "**It is NOT suggested for any commerical use**, but for educational purposes, you can have a try!"
   ]
  },
  {
   "cell_type": "markdown",
   "id": "362d8fd3",
   "metadata": {},
   "source": [
    "We look at the Google map, Edinburgh castle: https://www.google.com/maps/place/Edinburgh+Castle/@55.9485977,-3.2021022,17z/data=!4m5!3m4!1s0x4887c79a2099c0f7:0x469a1eebe54c0a58!8m2!3d55.9485947!4d-3.1999135"
   ]
  },
  {
   "cell_type": "markdown",
   "id": "bdc8fd8d",
   "metadata": {},
   "source": [
    "And we try to find all reviews of Edinburgh castle."
   ]
  },
  {
   "cell_type": "code",
   "execution_count": 25,
   "id": "77ae66bb",
   "metadata": {
    "ExecuteTime": {
     "end_time": "2023-01-15T22:23:09.035397Z",
     "start_time": "2023-01-15T22:23:09.030400Z"
    },
    "scrolled": true
   },
   "outputs": [],
   "source": [
    "# !pip install selenium \n",
    "import time\n",
    "import pandas as pd\n",
    "\n",
    "from bs4 import BeautifulSoup\n",
    "from selenium import webdriver\n",
    "from selenium.webdriver.common.by import By\n",
    "from selenium.webdriver.common.keys import Keys"
   ]
  },
  {
   "cell_type": "code",
   "execution_count": 26,
   "id": "5050531a",
   "metadata": {
    "ExecuteTime": {
     "end_time": "2023-01-15T22:23:11.670964Z",
     "start_time": "2023-01-15T22:23:11.657972Z"
    }
   },
   "outputs": [],
   "source": [
    "# define method that will create a browser, suitable to your operating system\n",
    "import sys\n",
    "def get_a_browser():\n",
    "    if sys.platform.startswith('win32') or sys.platform.startswith('cygwin'):\n",
    "        return webdriver.Chrome() # windows\n",
    "    else:\n",
    "        return webdriver.Chrome() # mac"
   ]
  },
  {
   "cell_type": "code",
   "execution_count": 27,
   "id": "ed53685a",
   "metadata": {},
   "outputs": [],
   "source": [
    "url = 'https://www.google.com/maps/place/Edinburgh+Castle/@55.9485977,-3.2021022,17z/data=!4m8!3m7!1s0x4887c79a2099c0f7:0x469a1eebe54c0a58!8m2!3d55.9485947!4d-3.1999135!9m1!1b1!16zL20vMGpwbl8?entry=ttu&g_ep=EgoyMDI1MDExMC4wIKXMDSoASAFQAw%3D%3D'"
   ]
  },
  {
   "cell_type": "code",
   "execution_count": 34,
   "id": "4e4b72e4",
   "metadata": {
    "ExecuteTime": {
     "end_time": "2023-01-15T22:31:23.918586Z",
     "start_time": "2023-01-15T22:31:08.183430Z"
    }
   },
   "outputs": [
    {
     "name": "stdout",
     "output_type": "stream",
     "text": [
      "<selenium.webdriver.remote.webelement.WebElement (session=\"d03c1f2c64230d5860fff723bcbaaf13\", element=\"f.66539A16F2B9A01891AB12FE80855122.d.9B69BA28F9017AC648C1B411D954D8DF.e.19\")>\n",
      "Pleasae KEEP BROWSER OPEN!\n"
     ]
    }
   ],
   "source": [
    "browser = get_a_browser()\n",
    "\n",
    "# the url we want to open\n",
    "# fill in the correct url for google map, Edinburgh castle!\n",
    "# You can also try other places\n",
    "# Open Google Maps, and search, \"Edinburgh Castle\", Copy the url and paste it here\n",
    "\n",
    "browser.get(url)\n",
    "# the browser will start and load the webpage\n",
    "\n",
    "# we wait 1 second to let the page load everything\n",
    "time.sleep(1)\n",
    "\n",
    "# Google map has cookies warning, just accept the cookies\n",
    "\n",
    "# Find XPATH of cookies button, \n",
    "xpath_for_accept_cookies = '//*[@id=\"yDmH0d\"]/c-wiz/div/div/div/div[2]/div[1]/div[3]/div[1]/div[1]/form[2]/div/div/button/span[6]'\n",
    "accept_cookies = browser.find_element(By.XPATH, xpath_for_accept_cookies)\n",
    "print(accept_cookies)\n",
    "accept_cookies.click();\n",
    "time.sleep(3)\n",
    "\n",
    "# Get total number of reviews\n",
    "# Find Xpath of total number of reviews\n",
    "#total_number_of_reviews = browser.find_element(By.XPATH, '//*[@id=\"QA0Szd\"]/div/div/div[1]/div[2]/div/div[1]/div/div/div[2]/div[1]/div/div[2]/div[3]').text.split(\" \")[0]\n",
    "#total_number_of_reviews = int(total_number_of_reviews.text.split(\" \")[0].replace('(', '').replace(')', '').replace(',', ''))\n",
    "#print('There are', total_number_of_reviews, 'reviews')\n",
    "\n",
    "# go to all reviews page\n",
    "# Find XPATH of all review link\n",
    "all_reviews_page = browser.find_element(By.XPATH, '//*[@id=\"QA0Szd\"]/div/div/div[1]/div[2]/div/div[1]/div/div/div[1]/div/div/button[3]/div[2]/div[2]').click()\n",
    "# some other xpath may work, you can have a try!\n",
    "time.sleep(3)\n",
    "\n",
    "print('Pleasae KEEP BROWSER OPEN!')"
   ]
  },
  {
   "cell_type": "code",
   "execution_count": null,
   "id": "281ecd06",
   "metadata": {
    "ExecuteTime": {
     "end_time": "2023-01-15T22:31:49.715169Z",
     "start_time": "2023-01-15T22:31:38.445986Z"
    }
   },
   "outputs": [
    {
     "ename": "ValueError",
     "evalue": "invalid literal for int() with base 10: ' '",
     "output_type": "error",
     "traceback": [
      "\u001b[0;31m---------------------------------------------------------------------------\u001b[0m",
      "\u001b[0;31mValueError\u001b[0m                                Traceback (most recent call last)",
      "Cell \u001b[0;32mIn[35], line 38\u001b[0m\n\u001b[1;32m     36\u001b[0m reviews_text\u001b[38;5;241m.\u001b[39mappend(reviews[i]\u001b[38;5;241m.\u001b[39mtext)\n\u001b[1;32m     37\u001b[0m dates_text\u001b[38;5;241m.\u001b[39mappend(dates[i]\u001b[38;5;241m.\u001b[39mtext)\n\u001b[0;32m---> 38\u001b[0m rates_int\u001b[38;5;241m.\u001b[39mappend(\u001b[38;5;28;43mint\u001b[39;49m\u001b[43m(\u001b[49m\u001b[43mrates\u001b[49m\u001b[43m[\u001b[49m\u001b[43mi\u001b[49m\u001b[43m]\u001b[49m\u001b[43m[\u001b[49m\u001b[38;5;124;43m'\u001b[39;49m\u001b[38;5;124;43maria-label\u001b[39;49m\u001b[38;5;124;43m'\u001b[39;49m\u001b[43m]\u001b[49m\u001b[43m[\u001b[49m\u001b[38;5;241;43m1\u001b[39;49m\u001b[43m]\u001b[49m\u001b[43m)\u001b[49m)\n\u001b[1;32m     39\u001b[0m users_text\u001b[38;5;241m.\u001b[39mappend(users[i][\u001b[38;5;124m'\u001b[39m\u001b[38;5;124maria-label\u001b[39m\u001b[38;5;124m'\u001b[39m])\n",
      "\u001b[0;31mValueError\u001b[0m: invalid literal for int() with base 10: ' '"
     ]
    }
   ],
   "source": [
    "# Scroll down to access all reviews, first of all, let's find the element!\n",
    "# Find XPATH of Scroll button!\n",
    "scrollable_div = browser.find_element(By.XPATH,\n",
    "                                      '//*[@id=\"QA0Szd\"]/div/div/div[1]/div[2]/div/div[1]/div/div/div[2]')#Scroll as many times as necessary to load all reviews\n",
    "\"\"\"\n",
    "Google map reviews display 10 per scoll down, so in total, we need to run round(total_number_of_reviews/10 - 1) times\n",
    "However Google has a limit maximum of requests 120, therefore, if the number of reviews are too many, we can just get the part of them\n",
    "\"\"\"\n",
    "# for i in range(0,(round(total_number_of_reviews/10 - 1))):\n",
    "# # However, in order to run fast, we can just load part of all\n",
    "for i in range(0,10):\n",
    "    browser.execute_script('arguments[0].scrollTop = arguments[0].scrollHeight', \n",
    "            scrollable_div)\n",
    "    time.sleep(1)\n",
    "\n",
    "# You can also use PAGE DOWN method\n",
    "# Find the body of the page\n",
    "\n",
    "\n",
    "#extract the info\n",
    "response = BeautifulSoup(browser.page_source, 'html.parser')\n",
    "\n",
    "#Find the relevant class names!\n",
    "response = BeautifulSoup(browser.page_source, 'html.parser')\n",
    "reviews = response.find_all('span', class_='wiI7pd', string=True)\n",
    "dates = response.find_all('span', class_='rsqaWe', string=True)\n",
    "rates = response.find_all('span', class_=\"kvMYJc\")\n",
    "users = response.find_all('div', class_='jftiEf fontBodyMedium')\n",
    "\n",
    "reviews_text=[]\n",
    "dates_text = []\n",
    "users_text = []\n",
    "rates_int = []\n",
    "\n",
    "for i in range(len(reviews)):\n",
    "    reviews_text.append(reviews[i].text)\n",
    "    dates_text.append(dates[i].text)\n",
    "    #rates_int.append(int(rates[i]['aria-label'][1]))\n",
    "    users_text.append(users[i]['aria-label'])"
   ]
  },
  {
   "cell_type": "code",
   "execution_count": 38,
   "id": "1f3fb72c",
   "metadata": {},
   "outputs": [],
   "source": [
    "for i in range(len(reviews)):\n",
    "    reviews_text.append(reviews[i].text)\n",
    "    dates_text.append(dates[i].text)\n",
    "    #rates_int.append(int(rates[i]['aria-label'][1]))\n",
    "    users_text.append(users[i]['aria-label'])"
   ]
  },
  {
   "cell_type": "code",
   "execution_count": null,
   "id": "f0b16cc8",
   "metadata": {
    "ExecuteTime": {
     "end_time": "2023-01-15T22:31:55.421919Z",
     "start_time": "2023-01-15T22:31:55.403930Z"
    }
   },
   "outputs": [],
   "source": [
    "users_text.append('a') # to make the same length\n",
    "\n",
    "#Build up a pandas dataframe to store the dataset\n",
    "df = pd.DataFrame({\"users\":users_text, \n",
    "                   #\"rates\":rates_int, \n",
    "                   \"review\":reviews_text, \n",
    "                   \"dates\":dates_text})"
   ]
  },
  {
   "cell_type": "code",
   "execution_count": null,
   "id": "07c12350",
   "metadata": {
    "ExecuteTime": {
     "end_time": "2023-01-15T22:31:59.315324Z",
     "start_time": "2023-01-15T22:31:59.283347Z"
    }
   },
   "outputs": [
    {
     "data": {
      "text/html": [
       "<div>\n",
       "<style scoped>\n",
       "    .dataframe tbody tr th:only-of-type {\n",
       "        vertical-align: middle;\n",
       "    }\n",
       "\n",
       "    .dataframe tbody tr th {\n",
       "        vertical-align: top;\n",
       "    }\n",
       "\n",
       "    .dataframe thead th {\n",
       "        text-align: right;\n",
       "    }\n",
       "</style>\n",
       "<table border=\"1\" class=\"dataframe\">\n",
       "  <thead>\n",
       "    <tr style=\"text-align: right;\">\n",
       "      <th></th>\n",
       "      <th>users</th>\n",
       "      <th>review</th>\n",
       "      <th>dates</th>\n",
       "    </tr>\n",
       "  </thead>\n",
       "  <tbody>\n",
       "    <tr>\n",
       "      <th>0</th>\n",
       "      <td>Ibrahim Wesabi</td>\n",
       "      <td>Here’s an updated review with your parking exp...</td>\n",
       "      <td>2 weeks ago</td>\n",
       "    </tr>\n",
       "    <tr>\n",
       "      <th>1</th>\n",
       "      <td>Richard Jack</td>\n",
       "      <td>Here’s an updated review with your parking exp...</td>\n",
       "      <td>2 weeks ago</td>\n",
       "    </tr>\n",
       "    <tr>\n",
       "      <th>2</th>\n",
       "      <td>Angie Concepcion</td>\n",
       "      <td>Well worth going and looking at the Castle. Th...</td>\n",
       "      <td>4 days ago</td>\n",
       "    </tr>\n",
       "    <tr>\n",
       "      <th>3</th>\n",
       "      <td>Mehmoona Tariq</td>\n",
       "      <td>Edinburgh Castle is a must-visit landmark, ric...</td>\n",
       "      <td>a week ago</td>\n",
       "    </tr>\n",
       "    <tr>\n",
       "      <th>4</th>\n",
       "      <td>The Olive Tree Family</td>\n",
       "      <td>5/5 stars! Edinburgh Castle is a MUST-VISIT at...</td>\n",
       "      <td>3 weeks ago</td>\n",
       "    </tr>\n",
       "    <tr>\n",
       "      <th>...</th>\n",
       "      <td>...</td>\n",
       "      <td>...</td>\n",
       "      <td>...</td>\n",
       "    </tr>\n",
       "    <tr>\n",
       "      <th>84</th>\n",
       "      <td>Kristina Eilts</td>\n",
       "      <td>Must stop if coming to Edinburgh.  Lots of his...</td>\n",
       "      <td>4 months ago</td>\n",
       "    </tr>\n",
       "    <tr>\n",
       "      <th>85</th>\n",
       "      <td>Robert Mower JR</td>\n",
       "      <td>This was an absolute must see during my trip t...</td>\n",
       "      <td>5 months ago</td>\n",
       "    </tr>\n",
       "    <tr>\n",
       "      <th>86</th>\n",
       "      <td>Irwan Mohamed</td>\n",
       "      <td>Amazing history !  Take the time to read the p...</td>\n",
       "      <td>3 months ago</td>\n",
       "    </tr>\n",
       "    <tr>\n",
       "      <th>87</th>\n",
       "      <td>Penny Gaffney</td>\n",
       "      <td>This review couldn't do justice for this place...</td>\n",
       "      <td>3 weeks ago</td>\n",
       "    </tr>\n",
       "    <tr>\n",
       "      <th>88</th>\n",
       "      <td>a</td>\n",
       "      <td>Beautiful castle in the centre of Edinburgh on...</td>\n",
       "      <td>2 months ago</td>\n",
       "    </tr>\n",
       "  </tbody>\n",
       "</table>\n",
       "<p>89 rows × 3 columns</p>\n",
       "</div>"
      ],
      "text/plain": [
       "                    users                                             review  \\\n",
       "0          Ibrahim Wesabi  Here’s an updated review with your parking exp...   \n",
       "1            Richard Jack  Here’s an updated review with your parking exp...   \n",
       "2        Angie Concepcion  Well worth going and looking at the Castle. Th...   \n",
       "3          Mehmoona Tariq  Edinburgh Castle is a must-visit landmark, ric...   \n",
       "4   The Olive Tree Family  5/5 stars! Edinburgh Castle is a MUST-VISIT at...   \n",
       "..                    ...                                                ...   \n",
       "84         Kristina Eilts  Must stop if coming to Edinburgh.  Lots of his...   \n",
       "85        Robert Mower JR  This was an absolute must see during my trip t...   \n",
       "86          Irwan Mohamed  Amazing history !  Take the time to read the p...   \n",
       "87          Penny Gaffney  This review couldn't do justice for this place...   \n",
       "88                      a  Beautiful castle in the centre of Edinburgh on...   \n",
       "\n",
       "           dates  \n",
       "0    2 weeks ago  \n",
       "1    2 weeks ago  \n",
       "2     4 days ago  \n",
       "3     a week ago  \n",
       "4    3 weeks ago  \n",
       "..           ...  \n",
       "84  4 months ago  \n",
       "85  5 months ago  \n",
       "86  3 months ago  \n",
       "87   3 weeks ago  \n",
       "88  2 months ago  \n",
       "\n",
       "[89 rows x 3 columns]"
      ]
     },
     "execution_count": 45,
     "metadata": {},
     "output_type": "execute_result"
    }
   ],
   "source": [
    "df"
   ]
  },
  {
   "cell_type": "code",
   "execution_count": null,
   "id": "4a5078cc",
   "metadata": {},
   "outputs": [],
   "source": []
  },
  {
   "cell_type": "markdown",
   "id": "a6b77920",
   "metadata": {},
   "source": [
    "# Exercise 4: Get Property info from ESPC"
   ]
  },
  {
   "cell_type": "markdown",
   "id": "028b9410",
   "metadata": {},
   "source": [
    "About ESPC:\n",
    "\n",
    "ESPC is the home of property, and the first-choice property portal for home buyers and sellers in Edinburgh, the Lothians, Fife and the Borders."
   ]
  },
  {
   "cell_type": "markdown",
   "id": "65ecd456",
   "metadata": {},
   "source": [
    "* Find recent property listings\n",
    "* Write the necessary info to a csv file"
   ]
  },
  {
   "cell_type": "code",
   "execution_count": null,
   "id": "986256ef",
   "metadata": {},
   "outputs": [],
   "source": [
    "# Step 1: Import necessary libraries"
   ]
  },
  {
   "cell_type": "code",
   "execution_count": 57,
   "id": "63288aac",
   "metadata": {
    "ExecuteTime": {
     "end_time": "2024-01-15T21:25:51.631752Z",
     "start_time": "2024-01-15T21:25:51.627730Z"
    }
   },
   "outputs": [],
   "source": [
    "import time\n",
    "import requests\n",
    "from bs4 import BeautifulSoup\n",
    "import re\n",
    "import pandas as pd\n",
    "import lxml"
   ]
  },
  {
   "cell_type": "markdown",
   "id": "8cda2e0f",
   "metadata": {},
   "source": [
    "## Here are the code to scrape the property information, please fill the blank"
   ]
  },
  {
   "cell_type": "code",
   "execution_count": 58,
   "id": "bf687b26",
   "metadata": {
    "ExecuteTime": {
     "end_time": "2024-01-15T21:50:51.308677Z",
     "start_time": "2024-01-15T21:50:51.288810Z"
    }
   },
   "outputs": [],
   "source": [
    "# Define the EspcScraper class\n",
    "class EspcScraper:\n",
    "    # Initializer or constructor method\n",
    "    def __init__(self):\n",
    "        # Initialize a list to store the results\n",
    "        self.results = []\n",
    "    \n",
    "    # Method to fetch the HTML content of a given URL\n",
    "    def fetch(self, url):\n",
    "        print('HTTP GET request to URL: %s' % url, end='')\n",
    "        res = requests.get(url)  # Perform the HTTP GET request\n",
    "        print(' | Status code: %s' % res.status_code)\n",
    "        return res\n",
    "\n",
    "    # Method to parse the HTML content and extract relevant data\n",
    "    def parse(self, html):\n",
    "        # Parse the HTML content using BeautifulSoup\n",
    "        content = BeautifulSoup(html, 'lxml')\n",
    "        # Find all div elements with the 'infoWrap' class\n",
    "        # This is because the web page is structured in such a way that, card by card\n",
    "        cards = content.findAll('div', {'class': 'infoWrap'})\n",
    "        \n",
    "        # Define delimiters for splitting the title\n",
    "        delimiters = \":|,\"\n",
    "        \n",
    "        # Iterate over each card and extract data\n",
    "        for card in cards:\n",
    "            # # Extract the hyperlink\n",
    "            link = 'https://espc.com' + card.find('a')['href']\n",
    "            \n",
    "            # title includes property type, address, town and postcode\n",
    "            title = card.find('h3', {'class': 'propertyTitle'}).text\n",
    "            title_part = re.split(delimiters, title)\n",
    "            postcode = title_part[-1].strip()\n",
    "            if postcode.count(' ') > 1:\n",
    "                town = postcode.split()[0]\n",
    "                postcode = ' '.join(postcode.split()[-2:])\n",
    "            else:\n",
    "                town = title_part[2].strip()\n",
    "\n",
    "            # description\n",
    "            description = card.find('div', {'class': 'description'})\n",
    "            \n",
    "            # price & offer\n",
    "            offer_type = card.find('span', {'class': 'offersOver'}).text\n",
    "            price = card.find('span', {'class': 'price'}).text\n",
    "            \n",
    "            # facilities\n",
    "            facilities = card.find('div', {'class': 'facilities'}).text\n",
    "            # Ensure the list is at least 3 elements long by extending with 'U'\n",
    "            facilities = (facilities + 'U' * 3)[:3]\n",
    "\n",
    "            try:\n",
    "                agent = card.find('div', {'class': 'logoWrap'}).find('img')['alt']\n",
    "            except:\n",
    "                agent = 'N/A'\n",
    "            \n",
    "            # Append the extracted information to the results list\n",
    "            self.results.append({\n",
    "                'offer_type': offer_type[:-len(price) - 1],\n",
    "                'price': price.strip(),\n",
    "                'property_type': title_part[0].strip(),\n",
    "                'address': title_part[1].strip(),\n",
    "                'town': town,\n",
    "                'postcode': postcode,\n",
    "                'area': postcode.split()[0],\n",
    "                'beds': facilities[0],\n",
    "                'toilets': facilities[1],\n",
    "                'living_rooms': facilities[2],\n",
    "                'description': description.text.split('\\n', 1)[0],\n",
    "                'link': link,\n",
    "                'parking': 'parking' in description,\n",
    "                'allocated': 'allocated' in description,\n",
    "                'agent': agent\n",
    "            })\n",
    "\n",
    "    def run(self,url, result_saving=False):\n",
    "        res = self.fetch(url)\n",
    "        self.parse(res.text)\n",
    "        \n",
    "        # get number of pages\n",
    "        li_tags = BeautifulSoup(res.text, 'lxml').select('ul.paginationList > li')\n",
    "        n_pages = int(li_tags[-2].text)\n",
    "        \n",
    "        # get all pages\n",
    "        insert_position = url.find('?') + 1  # +1 to insert after the '?'\n",
    "        for page in range(2, n_pages + 1):\n",
    "            string_to_insert = 'p=' + str(page) + '&'\n",
    "            new_url = url[:insert_position] + string_to_insert + url[insert_position:]\n",
    "            new_res = self.fetch(new_url)\n",
    "            self.parse(new_res.text)\n",
    "            time.sleep(2)\n",
    "            \n",
    "        df = pd.DataFrame(self.results)\n",
    "        # Just clean the empty rows\n",
    "        df.drop_duplicates(subset=['agent',\n",
    "                                   'address',\n",
    "                                   'price'],\n",
    "                           inplace=True)\n",
    "        \n",
    "        # If result_saving is True, then save results\n",
    "        if result_saving:\n",
    "            print('Saving ', len(df), ' items to csv file (espc.csv)...')\n",
    "            df.to_csv('espc.csv', index=False,\n",
    "                      encoding='utf-8-sig')\n",
    "        \n",
    "        return df"
   ]
  },
  {
   "cell_type": "code",
   "execution_count": 48,
   "id": "683de5db",
   "metadata": {
    "ExecuteTime": {
     "end_time": "2024-01-15T22:05:00.787451Z",
     "start_time": "2024-01-15T22:05:00.783988Z"
    }
   },
   "outputs": [],
   "source": [
    "# for example set the url\n",
    "url = 'https://espc.com/properties?locations=edinburgh&minbeds=2plus&maxprice=300000&ptype=house'"
   ]
  },
  {
   "cell_type": "code",
   "execution_count": 60,
   "id": "0a4e7ea7",
   "metadata": {},
   "outputs": [
    {
     "name": "stdout",
     "output_type": "stream",
     "text": [
      "HTTP GET request to URL: https://espc.com/properties?locations=edinburgh&minbeds=2plus&maxprice=300000&ptype=house | Status code: 200\n"
     ]
    },
    {
     "ename": "FeatureNotFound",
     "evalue": "Couldn't find a tree builder with the features you requested: lxml. Do you need to install a parser library?",
     "output_type": "error",
     "traceback": [
      "\u001b[0;31m---------------------------------------------------------------------------\u001b[0m",
      "\u001b[0;31mFeatureNotFound\u001b[0m                           Traceback (most recent call last)",
      "Cell \u001b[0;32mIn[60], line 4\u001b[0m\n\u001b[1;32m      2\u001b[0m url \u001b[38;5;241m=\u001b[39m \u001b[38;5;124m'\u001b[39m\u001b[38;5;124mhttps://espc.com/properties?locations=edinburgh&minbeds=2plus&maxprice=300000&ptype=house\u001b[39m\u001b[38;5;124m'\u001b[39m\n\u001b[1;32m      3\u001b[0m scraper \u001b[38;5;241m=\u001b[39m EspcScraper()\n\u001b[0;32m----> 4\u001b[0m \u001b[43mscraper\u001b[49m\u001b[38;5;241;43m.\u001b[39;49m\u001b[43mrun\u001b[49m\u001b[43m(\u001b[49m\u001b[43murl\u001b[49m\u001b[43m,\u001b[49m\u001b[43m \u001b[49m\u001b[43mresult_saving\u001b[49m\u001b[38;5;241;43m=\u001b[39;49m\u001b[38;5;28;43;01mFalse\u001b[39;49;00m\u001b[43m)\u001b[49m\n",
      "Cell \u001b[0;32mIn[58], line 79\u001b[0m, in \u001b[0;36mEspcScraper.run\u001b[0;34m(self, url, result_saving)\u001b[0m\n\u001b[1;32m     77\u001b[0m \u001b[38;5;28;01mdef\u001b[39;00m \u001b[38;5;21mrun\u001b[39m(\u001b[38;5;28mself\u001b[39m,url, result_saving\u001b[38;5;241m=\u001b[39m\u001b[38;5;28;01mFalse\u001b[39;00m):\n\u001b[1;32m     78\u001b[0m     res \u001b[38;5;241m=\u001b[39m \u001b[38;5;28mself\u001b[39m\u001b[38;5;241m.\u001b[39mfetch(url)\n\u001b[0;32m---> 79\u001b[0m     \u001b[38;5;28;43mself\u001b[39;49m\u001b[38;5;241;43m.\u001b[39;49m\u001b[43mparse\u001b[49m\u001b[43m(\u001b[49m\u001b[43mres\u001b[49m\u001b[38;5;241;43m.\u001b[39;49m\u001b[43mtext\u001b[49m\u001b[43m)\u001b[49m\n\u001b[1;32m     81\u001b[0m     \u001b[38;5;66;03m# get number of pages\u001b[39;00m\n\u001b[1;32m     82\u001b[0m     li_tags \u001b[38;5;241m=\u001b[39m BeautifulSoup(res\u001b[38;5;241m.\u001b[39mtext, \u001b[38;5;124m'\u001b[39m\u001b[38;5;124mlxml\u001b[39m\u001b[38;5;124m'\u001b[39m)\u001b[38;5;241m.\u001b[39mselect(\u001b[38;5;124m'\u001b[39m\u001b[38;5;124mul.paginationList > li\u001b[39m\u001b[38;5;124m'\u001b[39m)\n",
      "Cell \u001b[0;32mIn[58], line 18\u001b[0m, in \u001b[0;36mEspcScraper.parse\u001b[0;34m(self, html)\u001b[0m\n\u001b[1;32m     16\u001b[0m \u001b[38;5;28;01mdef\u001b[39;00m \u001b[38;5;21mparse\u001b[39m(\u001b[38;5;28mself\u001b[39m, html):\n\u001b[1;32m     17\u001b[0m     \u001b[38;5;66;03m# Parse the HTML content using BeautifulSoup\u001b[39;00m\n\u001b[0;32m---> 18\u001b[0m     content \u001b[38;5;241m=\u001b[39m \u001b[43mBeautifulSoup\u001b[49m\u001b[43m(\u001b[49m\u001b[43mhtml\u001b[49m\u001b[43m,\u001b[49m\u001b[43m \u001b[49m\u001b[38;5;124;43m'\u001b[39;49m\u001b[38;5;124;43mlxml\u001b[39;49m\u001b[38;5;124;43m'\u001b[39;49m\u001b[43m)\u001b[49m\n\u001b[1;32m     19\u001b[0m     \u001b[38;5;66;03m# Find all div elements with the 'infoWrap' class\u001b[39;00m\n\u001b[1;32m     20\u001b[0m     \u001b[38;5;66;03m# This is because the web page is structured in such a way that, card by card\u001b[39;00m\n\u001b[1;32m     21\u001b[0m     cards \u001b[38;5;241m=\u001b[39m content\u001b[38;5;241m.\u001b[39mfindAll(\u001b[38;5;124m'\u001b[39m\u001b[38;5;124mdiv\u001b[39m\u001b[38;5;124m'\u001b[39m, {\u001b[38;5;124m'\u001b[39m\u001b[38;5;124mclass\u001b[39m\u001b[38;5;124m'\u001b[39m: \u001b[38;5;124m'\u001b[39m\u001b[38;5;124minfoWrap\u001b[39m\u001b[38;5;124m'\u001b[39m})\n",
      "File \u001b[0;32m~/Library/Python/3.9/lib/python/site-packages/bs4/__init__.py:250\u001b[0m, in \u001b[0;36mBeautifulSoup.__init__\u001b[0;34m(self, markup, features, builder, parse_only, from_encoding, exclude_encodings, element_classes, **kwargs)\u001b[0m\n\u001b[1;32m    248\u001b[0m     builder_class \u001b[38;5;241m=\u001b[39m builder_registry\u001b[38;5;241m.\u001b[39mlookup(\u001b[38;5;241m*\u001b[39mfeatures)\n\u001b[1;32m    249\u001b[0m     \u001b[38;5;28;01mif\u001b[39;00m builder_class \u001b[38;5;129;01mis\u001b[39;00m \u001b[38;5;28;01mNone\u001b[39;00m:\n\u001b[0;32m--> 250\u001b[0m         \u001b[38;5;28;01mraise\u001b[39;00m FeatureNotFound(\n\u001b[1;32m    251\u001b[0m             \u001b[38;5;124m\"\u001b[39m\u001b[38;5;124mCouldn\u001b[39m\u001b[38;5;124m'\u001b[39m\u001b[38;5;124mt find a tree builder with the features you \u001b[39m\u001b[38;5;124m\"\u001b[39m\n\u001b[1;32m    252\u001b[0m             \u001b[38;5;124m\"\u001b[39m\u001b[38;5;124mrequested: \u001b[39m\u001b[38;5;132;01m%s\u001b[39;00m\u001b[38;5;124m. Do you need to install a parser library?\u001b[39m\u001b[38;5;124m\"\u001b[39m\n\u001b[1;32m    253\u001b[0m             \u001b[38;5;241m%\u001b[39m \u001b[38;5;124m\"\u001b[39m\u001b[38;5;124m,\u001b[39m\u001b[38;5;124m\"\u001b[39m\u001b[38;5;241m.\u001b[39mjoin(features))\n\u001b[1;32m    255\u001b[0m \u001b[38;5;66;03m# At this point either we have a TreeBuilder instance in\u001b[39;00m\n\u001b[1;32m    256\u001b[0m \u001b[38;5;66;03m# builder, or we have a builder_class that we can instantiate\u001b[39;00m\n\u001b[1;32m    257\u001b[0m \u001b[38;5;66;03m# with the remaining **kwargs.\u001b[39;00m\n\u001b[1;32m    258\u001b[0m \u001b[38;5;28;01mif\u001b[39;00m builder \u001b[38;5;129;01mis\u001b[39;00m \u001b[38;5;28;01mNone\u001b[39;00m:\n",
      "\u001b[0;31mFeatureNotFound\u001b[0m: Couldn't find a tree builder with the features you requested: lxml. Do you need to install a parser library?"
     ]
    }
   ],
   "source": [
    "# For example, \n",
    "url = 'https://espc.com/properties?locations=edinburgh&minbeds=2plus&maxprice=300000&ptype=house'\n",
    "scraper = EspcScraper()\n",
    "scraper.run(url, result_saving=False)"
   ]
  },
  {
   "cell_type": "markdown",
   "id": "63c4a052",
   "metadata": {},
   "source": [
    "You can also try to get all other properties you're interested in."
   ]
  },
  {
   "cell_type": "code",
   "execution_count": null,
   "id": "727d2a4c",
   "metadata": {},
   "outputs": [],
   "source": []
  },
  {
   "cell_type": "code",
   "execution_count": null,
   "id": "e2aee83d",
   "metadata": {},
   "outputs": [],
   "source": []
  },
  {
   "cell_type": "code",
   "execution_count": null,
   "id": "501ebd89",
   "metadata": {},
   "outputs": [],
   "source": []
  }
 ],
 "metadata": {
  "kernelspec": {
   "display_name": "Python 3",
   "language": "python",
   "name": "python3"
  },
  "language_info": {
   "codemirror_mode": {
    "name": "ipython",
    "version": 3
   },
   "file_extension": ".py",
   "mimetype": "text/x-python",
   "name": "python",
   "nbconvert_exporter": "python",
   "pygments_lexer": "ipython3",
   "version": "3.9.6"
  },
  "toc": {
   "base_numbering": 1,
   "nav_menu": {},
   "number_sections": true,
   "sideBar": true,
   "skip_h1_title": false,
   "title_cell": "Table of Contents",
   "title_sidebar": "Contents",
   "toc_cell": false,
   "toc_position": {},
   "toc_section_display": true,
   "toc_window_display": false
  }
 },
 "nbformat": 4,
 "nbformat_minor": 5
}
