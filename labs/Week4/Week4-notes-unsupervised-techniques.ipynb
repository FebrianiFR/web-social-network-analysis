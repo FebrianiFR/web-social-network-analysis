{
 "cells": [
  {
   "cell_type": "markdown",
   "id": "b7e90cad",
   "metadata": {},
   "source": [
    "In this notebook, we will look at two parts, clustering and recommender system.\n",
    "\n",
    "In the first part, we will go through `KMeans` and `DBSCAN` algorithm to cluster `Starbucks` location geographically. We will use `scikit-learn` for implementation and `matplotlib` for visualisation.\n",
    "\n",
    "In the second part, we will consider recommender systems with decomposition"
   ]
  },
  {
   "cell_type": "code",
   "execution_count": 1,
   "id": "11d446cf",
   "metadata": {},
   "outputs": [],
   "source": [
    "from sklearn.cluster import KMeans\n",
    "from sklearn.cluster import DBSCAN\n",
    "import pandas as pd\n",
    "import numpy as np\n",
    "import matplotlib.pyplot as plt\n",
    "import matplotlib.cm as cm"
   ]
  },
  {
   "cell_type": "markdown",
   "id": "a79571c2",
   "metadata": {},
   "source": [
    "# Clustering"
   ]
  },
  {
   "cell_type": "markdown",
   "id": "9dd9c2fa",
   "metadata": {},
   "source": [
    "First, let's look at the data for clustering"
   ]
  },
  {
   "cell_type": "code",
   "execution_count": 2,
   "id": "9f9ed74c",
   "metadata": {},
   "outputs": [
    {
     "name": "stdout",
     "output_type": "stream",
     "text": [
      "              Longitude  Latitude\n",
      "Store Number                     \n",
      "47370-257954       1.53     42.51\n",
      "22331-212325      55.47     25.42\n",
      "47089-256771      55.47     25.39\n",
      "22126-218024      54.38     24.48\n",
      "17127-178586      54.54     24.51\n"
     ]
    }
   ],
   "source": [
    "# Read csv with pandas, index indicates whether the first column is an index\n",
    "data = pd.read_csv(\"data/starbucks_locations.csv\", index_col=0)\n",
    "data = data.dropna()\n",
    "\n",
    "print(data.head())"
   ]
  },
  {
   "cell_type": "code",
   "execution_count": 3,
   "id": "6b7ef029",
   "metadata": {},
   "outputs": [
    {
     "data": {
      "text/html": [
       "<div>\n",
       "<style scoped>\n",
       "    .dataframe tbody tr th:only-of-type {\n",
       "        vertical-align: middle;\n",
       "    }\n",
       "\n",
       "    .dataframe tbody tr th {\n",
       "        vertical-align: top;\n",
       "    }\n",
       "\n",
       "    .dataframe thead th {\n",
       "        text-align: right;\n",
       "    }\n",
       "</style>\n",
       "<table border=\"1\" class=\"dataframe\">\n",
       "  <thead>\n",
       "    <tr style=\"text-align: right;\">\n",
       "      <th></th>\n",
       "      <th>Longitude</th>\n",
       "      <th>Latitude</th>\n",
       "    </tr>\n",
       "    <tr>\n",
       "      <th>Store Number</th>\n",
       "      <th></th>\n",
       "      <th></th>\n",
       "    </tr>\n",
       "  </thead>\n",
       "  <tbody>\n",
       "    <tr>\n",
       "      <th>47088-256773</th>\n",
       "      <td>50.52</td>\n",
       "      <td>26.21</td>\n",
       "    </tr>\n",
       "    <tr>\n",
       "      <th>21603-213405</th>\n",
       "      <td>50.59</td>\n",
       "      <td>26.23</td>\n",
       "    </tr>\n",
       "    <tr>\n",
       "      <th>17255-179926</th>\n",
       "      <td>50.60</td>\n",
       "      <td>26.20</td>\n",
       "    </tr>\n",
       "    <tr>\n",
       "      <th>17189-179925</th>\n",
       "      <td>50.58</td>\n",
       "      <td>26.22</td>\n",
       "    </tr>\n",
       "    <tr>\n",
       "      <th>15439-161444</th>\n",
       "      <td>50.57</td>\n",
       "      <td>26.21</td>\n",
       "    </tr>\n",
       "    <tr>\n",
       "      <th>47377-258065</th>\n",
       "      <td>50.55</td>\n",
       "      <td>26.22</td>\n",
       "    </tr>\n",
       "    <tr>\n",
       "      <th>26955-246149</th>\n",
       "      <td>50.59</td>\n",
       "      <td>26.23</td>\n",
       "    </tr>\n",
       "    <tr>\n",
       "      <th>21148-209545</th>\n",
       "      <td>50.60</td>\n",
       "      <td>26.22</td>\n",
       "    </tr>\n",
       "    <tr>\n",
       "      <th>34324-95973</th>\n",
       "      <td>50.61</td>\n",
       "      <td>26.21</td>\n",
       "    </tr>\n",
       "    <tr>\n",
       "      <th>34234-33223</th>\n",
       "      <td>50.54</td>\n",
       "      <td>26.23</td>\n",
       "    </tr>\n",
       "    <tr>\n",
       "      <th>34286-79020</th>\n",
       "      <td>50.58</td>\n",
       "      <td>26.21</td>\n",
       "    </tr>\n",
       "    <tr>\n",
       "      <th>1349-112145</th>\n",
       "      <td>50.59</td>\n",
       "      <td>26.24</td>\n",
       "    </tr>\n",
       "    <tr>\n",
       "      <th>32717-122090</th>\n",
       "      <td>50.55</td>\n",
       "      <td>26.23</td>\n",
       "    </tr>\n",
       "    <tr>\n",
       "      <th>34218-27369</th>\n",
       "      <td>50.54</td>\n",
       "      <td>26.23</td>\n",
       "    </tr>\n",
       "    <tr>\n",
       "      <th>34345-98401</th>\n",
       "      <td>50.58</td>\n",
       "      <td>26.24</td>\n",
       "    </tr>\n",
       "    <tr>\n",
       "      <th>32716-134986</th>\n",
       "      <td>50.55</td>\n",
       "      <td>26.23</td>\n",
       "    </tr>\n",
       "    <tr>\n",
       "      <th>18359-188905</th>\n",
       "      <td>50.58</td>\n",
       "      <td>26.22</td>\n",
       "    </tr>\n",
       "    <tr>\n",
       "      <th>34302-86720</th>\n",
       "      <td>50.58</td>\n",
       "      <td>26.14</td>\n",
       "    </tr>\n",
       "    <tr>\n",
       "      <th>23604-225764</th>\n",
       "      <td>50.57</td>\n",
       "      <td>26.23</td>\n",
       "    </tr>\n",
       "    <tr>\n",
       "      <th>1582-122086</th>\n",
       "      <td>50.61</td>\n",
       "      <td>26.25</td>\n",
       "    </tr>\n",
       "    <tr>\n",
       "      <th>3639-145205</th>\n",
       "      <td>50.63</td>\n",
       "      <td>26.27</td>\n",
       "    </tr>\n",
       "    <tr>\n",
       "      <th>26978-244487</th>\n",
       "      <td>50.18</td>\n",
       "      <td>26.28</td>\n",
       "    </tr>\n",
       "    <tr>\n",
       "      <th>17391-179125</th>\n",
       "      <td>49.98</td>\n",
       "      <td>26.25</td>\n",
       "    </tr>\n",
       "    <tr>\n",
       "      <th>24603-238329</th>\n",
       "      <td>49.80</td>\n",
       "      <td>26.46</td>\n",
       "    </tr>\n",
       "    <tr>\n",
       "      <th>26495-238331</th>\n",
       "      <td>49.99</td>\n",
       "      <td>26.35</td>\n",
       "    </tr>\n",
       "    <tr>\n",
       "      <th>26496-238333</th>\n",
       "      <td>50.22</td>\n",
       "      <td>26.32</td>\n",
       "    </tr>\n",
       "    <tr>\n",
       "      <th>34214-27367</th>\n",
       "      <td>50.18</td>\n",
       "      <td>26.29</td>\n",
       "    </tr>\n",
       "    <tr>\n",
       "      <th>32580-128367</th>\n",
       "      <td>50.20</td>\n",
       "      <td>26.30</td>\n",
       "    </tr>\n",
       "    <tr>\n",
       "      <th>34308-93504</th>\n",
       "      <td>50.22</td>\n",
       "      <td>26.29</td>\n",
       "    </tr>\n",
       "    <tr>\n",
       "      <th>34273-73460</th>\n",
       "      <td>50.07</td>\n",
       "      <td>26.41</td>\n",
       "    </tr>\n",
       "    <tr>\n",
       "      <th>31409-105581</th>\n",
       "      <td>50.12</td>\n",
       "      <td>26.43</td>\n",
       "    </tr>\n",
       "    <tr>\n",
       "      <th>34255-62699</th>\n",
       "      <td>50.16</td>\n",
       "      <td>26.33</td>\n",
       "    </tr>\n",
       "    <tr>\n",
       "      <th>29390-253569</th>\n",
       "      <td>50.08</td>\n",
       "      <td>26.42</td>\n",
       "    </tr>\n",
       "    <tr>\n",
       "      <th>47516-253013</th>\n",
       "      <td>50.11</td>\n",
       "      <td>26.43</td>\n",
       "    </tr>\n",
       "  </tbody>\n",
       "</table>\n",
       "</div>"
      ],
      "text/plain": [
       "              Longitude  Latitude\n",
       "Store Number                     \n",
       "47088-256773      50.52     26.21\n",
       "21603-213405      50.59     26.23\n",
       "17255-179926      50.60     26.20\n",
       "17189-179925      50.58     26.22\n",
       "15439-161444      50.57     26.21\n",
       "47377-258065      50.55     26.22\n",
       "26955-246149      50.59     26.23\n",
       "21148-209545      50.60     26.22\n",
       "34324-95973       50.61     26.21\n",
       "34234-33223       50.54     26.23\n",
       "34286-79020       50.58     26.21\n",
       "1349-112145       50.59     26.24\n",
       "32717-122090      50.55     26.23\n",
       "34218-27369       50.54     26.23\n",
       "34345-98401       50.58     26.24\n",
       "32716-134986      50.55     26.23\n",
       "18359-188905      50.58     26.22\n",
       "34302-86720       50.58     26.14\n",
       "23604-225764      50.57     26.23\n",
       "1582-122086       50.61     26.25\n",
       "3639-145205       50.63     26.27\n",
       "26978-244487      50.18     26.28\n",
       "17391-179125      49.98     26.25\n",
       "24603-238329      49.80     26.46\n",
       "26495-238331      49.99     26.35\n",
       "26496-238333      50.22     26.32\n",
       "34214-27367       50.18     26.29\n",
       "32580-128367      50.20     26.30\n",
       "34308-93504       50.22     26.29\n",
       "34273-73460       50.07     26.41\n",
       "31409-105581      50.12     26.43\n",
       "34255-62699       50.16     26.33\n",
       "29390-253569      50.08     26.42\n",
       "47516-253013      50.11     26.43"
      ]
     },
     "execution_count": 3,
     "metadata": {},
     "output_type": "execute_result"
    }
   ],
   "source": [
    "# Reduce data for computability. just keep first 200\n",
    "# data = data[:200]\n",
    "\n",
    "# or reduce data to just some part of the planet\n",
    "new_data = data[(data[\"Longitude\"].between(49, 51)) & (data[\"Latitude\"].between(26, 27))]\n",
    "\n",
    "new_data"
   ]
  },
  {
   "cell_type": "markdown",
   "id": "9766046f",
   "metadata": {},
   "source": [
    "Now we can use `scikit-learn` to implement both `k-means` and `DBSCAN`. "
   ]
  },
  {
   "cell_type": "markdown",
   "id": "00b1fa82",
   "metadata": {},
   "source": [
    "## K-means"
   ]
  },
  {
   "cell_type": "code",
   "execution_count": 4,
   "id": "b8295f87",
   "metadata": {},
   "outputs": [
    {
     "name": "stdout",
     "output_type": "stream",
     "text": [
      "Start K-means: \n",
      "Cluster centroids: [[-118.97456903   35.05706838]\n",
      " [ 117.80344131   28.21343239]\n",
      " [   2.17399302   50.9080617 ]\n",
      " [ -79.8467018    38.66997328]\n",
      " [ -62.85792176  -25.41293399]\n",
      " [  41.86422787   34.42387947]\n",
      " [ 106.16362035    2.25526419]\n",
      " [ 132.78779039   36.35074236]\n",
      " [ -97.77220648   33.16311929]\n",
      " [-121.03074426   48.38368631]]\n"
     ]
    }
   ],
   "source": [
    "# K-means with 10 neighbours and 500 iterations\n",
    "kmeans = KMeans(10, max_iter=500)\n",
    "\n",
    "print('Start K-means: ')\n",
    "kmeans.fit(data)\n",
    "print(\"Cluster centroids: \" + str(kmeans.cluster_centers_))"
   ]
  },
  {
   "cell_type": "markdown",
   "id": "5d1cca91",
   "metadata": {},
   "source": [
    "To visualise the results, we need to write a plot function:"
   ]
  },
  {
   "cell_type": "code",
   "execution_count": 7,
   "id": "efe3f0aa",
   "metadata": {},
   "outputs": [],
   "source": [
    "def graphClusters(all_data, labels, centers):\n",
    "    # open a color map (cmap) which is a collection of colors which you can fetch by index (i.e. an integer)\n",
    "    cmap = plt.get_cmap(name='tab10')\n",
    "    \n",
    "    # add the color as a new column in the dataframe and add the cluster labels\n",
    "    all_data['color'] = labels\n",
    "    \n",
    "    # add the centroids (in case of K-means) to the plot by adding their coordinates  \n",
    "    # example pyplot use: plt.plot(x, y, 'bo', linestyle='dashed')\n",
    "    # example pyplot use: plt.plot(x, y,  color='blue', marker='o', linestyle='dashed')\n",
    "    # more here: https://matplotlib.org/stable/api/_as_gen/matplotlib.pyplot.plot.html#main-content\n",
    "    \n",
    "    which_centroid = 0\n",
    "    if centers:\n",
    "        for center in centers:     \n",
    "            plt.plot(center[0],center[1], marker='o',label='centroid_'+str(which_centroid),\n",
    "                     markersize=10,color=cmap(which_centroid))\n",
    "            which_centroid += 1\n",
    "    \n",
    "    # add all the data points and use their label number to fetch a certain color\n",
    "    # index is    \n",
    "    for ind,row in all_data.iterrows():\n",
    "        plt.plot(row['Longitude'],row['Latitude'], marker='o', color=cmap(int(row['color'])), markersize=2)\n",
    "        \n",
    "    plt.xlabel('Longitude')\n",
    "    plt.ylabel('Latitude')\n",
    "    plt.show()"
   ]
  },
  {
   "cell_type": "code",
   "execution_count": 8,
   "id": "4e19b035",
   "metadata": {},
   "outputs": [
    {
     "data": {
      "image/png": "[encoded data removed]",
      "text/plain": [
       "<Figure size 640x480 with 1 Axes>"
      ]
     },
     "metadata": {},
     "output_type": "display_data"
    }
   ],
   "source": [
    "# The visulisation requires a long time, please be patient. Or you can try new_data or any other subset of original dataset\n",
    "graphClusters(data,kmeans.labels_,list(kmeans.cluster_centers_))"
   ]
  },
  {
   "cell_type": "code",
   "execution_count": null,
   "id": "91cc4ab5",
   "metadata": {},
   "outputs": [],
   "source": []
  },
  {
   "cell_type": "markdown",
   "id": "6b94179f",
   "metadata": {},
   "source": [
    "## Open questions: why is it 10 clusters? How about less or more? Why iteration = 500? Is it possible to have less iterations?"
   ]
  },
  {
   "cell_type": "markdown",
   "id": "eec62363",
   "metadata": {},
   "source": [
    "The best tutorial of a Python library is always the official documentation, for example, `K-means`: https://scikit-learn.org/stable/modules/generated/sklearn.cluster.KMeans.html"
   ]
  },
  {
   "cell_type": "code",
   "execution_count": null,
   "id": "d09f7abe",
   "metadata": {},
   "outputs": [],
   "source": []
  },
  {
   "cell_type": "markdown",
   "id": "46d20c2d",
   "metadata": {},
   "source": [
    "## DBSCAN"
   ]
  },
  {
   "cell_type": "code",
   "execution_count": 9,
   "id": "80cab647",
   "metadata": {},
   "outputs": [
    {
     "name": "stdout",
     "output_type": "stream",
     "text": [
      "Start DBSCAN: \n",
      "Labels: {0, 1, 2, 3, 4, 5, 6, -1}\n"
     ]
    }
   ],
   "source": [
    "dbscan = DBSCAN(eps=10,min_samples=80)\n",
    "\n",
    "print('Start DBSCAN: ')\n",
    "dbscan.fit(data)\n",
    "print(\"Labels: \"+str(set(dbscan.labels_)))"
   ]
  },
  {
   "cell_type": "markdown",
   "id": "e1b4af6f-4b27-4f03-b2ef-1ce25745e183",
   "metadata": {},
   "source": [
    "Looking at the results below, and think about it"
   ]
  },
  {
   "cell_type": "code",
   "execution_count": 10,
   "id": "11769831",
   "metadata": {},
   "outputs": [
    {
     "data": {
      "image/png": "[encoded data removed]",
      "text/plain": [
       "<Figure size 640x480 with 1 Axes>"
      ]
     },
     "metadata": {},
     "output_type": "display_data"
    }
   ],
   "source": [
    "# The visulisation requires a long time, please be patient. Or you can try new_data or any other subset of original dataset\n",
    "graphClusters(data,dbscan.labels_,[])\n",
    "# the blue points are alll outliers"
   ]
  },
  {
   "cell_type": "code",
   "execution_count": null,
   "id": "edffa7eb",
   "metadata": {},
   "outputs": [],
   "source": []
  },
  {
   "cell_type": "markdown",
   "id": "36ff2e80",
   "metadata": {},
   "source": [
    "## Open questions: Can you try other eps and min_sample to improve the results of clustering?"
   ]
  },
  {
   "cell_type": "markdown",
   "id": "805bc4a6",
   "metadata": {},
   "source": [
    "The best tutorial of a Python library is always the official documentation, for example, `DBSCAN`: https://scikit-learn.org/stable/modules/generated/sklearn.cluster.DBSCAN.html"
   ]
  },
  {
   "cell_type": "code",
   "execution_count": null,
   "id": "86809ec2",
   "metadata": {},
   "outputs": [],
   "source": []
  },
  {
   "cell_type": "markdown",
   "id": "c1548631",
   "metadata": {},
   "source": [
    "# Recommender system with decomposition"
   ]
  },
  {
   "cell_type": "markdown",
   "id": "f616bf4f",
   "metadata": {},
   "source": [
    "We can also consider decomposition. \n",
    "We convert the utility matrix $M (r \\times m)$ into $M' = UV^T \\approx M$  with $U (r \\times l)$ and $V^T (l \\times m)$."
   ]
  },
  {
   "cell_type": "code",
   "execution_count": 11,
   "id": "03dd2a89",
   "metadata": {},
   "outputs": [],
   "source": [
    "from sklearn.decomposition import NMF"
   ]
  },
  {
   "cell_type": "markdown",
   "id": "c6c4afb9",
   "metadata": {},
   "source": [
    "loading the dataset"
   ]
  },
  {
   "cell_type": "code",
   "execution_count": 12,
   "id": "2d04cbdf",
   "metadata": {},
   "outputs": [
    {
     "name": "stdout",
     "output_type": "stream",
     "text": [
      "   userId  movieId  rating   timestamp\n",
      "0       1        2     3.5  1112486027\n",
      "1       1       29     3.5  1112484676\n",
      "2       1       32     3.5  1112484819\n",
      "3       1       47     3.5  1112484727\n",
      "4       1       50     3.5  1112484580\n",
      "698 from 11 users\n"
     ]
    }
   ],
   "source": [
    "# load data\n",
    "ratings = pd.read_csv('data/ratings.csv')\n",
    "\n",
    "# sample dataset\n",
    "# be careful, once again a very heavy operation\n",
    "ratings = ratings[:1000]\n",
    "\n",
    "print(ratings.head())\n",
    "\n",
    "# print some information\n",
    "noMovies = len(ratings['movieId'].unique())\n",
    "noUsers = len(ratings['userId'].unique())\n",
    "print(str(noMovies)+\" from \"+str(noUsers)+' users')"
   ]
  },
  {
   "cell_type": "markdown",
   "id": "7a11a9a0",
   "metadata": {},
   "source": [
    "Do some pre-processing before we carefully look at it."
   ]
  },
  {
   "cell_type": "code",
   "execution_count": 13,
   "id": "5a3bf79a",
   "metadata": {},
   "outputs": [],
   "source": [
    "# create empty utility matrix\n",
    "utility = np.zeros(shape=(noUsers,noMovies))\n",
    "\n",
    "# store movieIds as indices to use in utility matrix\n",
    "movieIds = {}\n",
    "midi = 0\n",
    "for value in ratings['movieId'].unique():\n",
    "    movieIds[value]=midi\n",
    "    midi = midi + 1\n",
    "\n",
    "# populate utility matrix\n",
    "for index, line in ratings.iterrows():\n",
    "    uid = int(line['userId'])-1\n",
    "    mid = movieIds[line['movieId']]\n",
    "    rating = line['rating']\n",
    "    utility[uid,mid]=rating"
   ]
  },
  {
   "cell_type": "markdown",
   "id": "95a2f28a",
   "metadata": {},
   "source": [
    "Now let's do the matrix factorisation with `scikit-learn`:"
   ]
  },
  {
   "cell_type": "code",
   "execution_count": 21,
   "id": "936af51d",
   "metadata": {},
   "outputs": [],
   "source": [
    "decomposition = NMF(n_components=50, init='random', random_state=2025, max_iter=500)\n",
    "U = decomposition.fit_transform(utility)\n",
    "V_T = decomposition.components_"
   ]
  },
  {
   "cell_type": "code",
   "execution_count": 22,
   "id": "40ed2ac2",
   "metadata": {},
   "outputs": [
    {
     "name": "stdout",
     "output_type": "stream",
     "text": [
      "Shape of U (#reviewers x #latent factors):  (11, 50)\n",
      "Shape of V_T (#latent factors x #movies):  (50, 698)\n"
     ]
    }
   ],
   "source": [
    "print('Shape of U (#reviewers x #latent factors): ', np.shape(U))\n",
    "print('Shape of V_T (#latent factors x #movies): ', np.shape(V_T))"
   ]
  },
  {
   "cell_type": "markdown",
   "id": "22325f42",
   "metadata": {},
   "source": [
    "Now we can calculate $M'$:"
   ]
  },
  {
   "cell_type": "code",
   "execution_count": 23,
   "id": "d4b4fde1",
   "metadata": {},
   "outputs": [
    {
     "name": "stdout",
     "output_type": "stream",
     "text": [
      "(11, 698)\n"
     ]
    }
   ],
   "source": [
    "M_ = np.dot(U, V_T)\n",
    "print(np.shape(M_))"
   ]
  },
  {
   "cell_type": "markdown",
   "id": "a9ab7f3d",
   "metadata": {},
   "source": [
    "We can see how more dimensions provide a closer approximation of the original matrix:"
   ]
  },
  {
   "cell_type": "code",
   "execution_count": 24,
   "id": "a08acf5d",
   "metadata": {},
   "outputs": [
    {
     "name": "stdout",
     "output_type": "stream",
     "text": [
      "for 20 components,\tdifference was -2.2860846369228995\n",
      "for 30 components,\tdifference was -1.065043980260381\n",
      "for 40 components,\tdifference was -1.4317665903625723\n",
      "for 50 components,\tdifference was -0.11193875183742155\n"
     ]
    },
    {
     "name": "stderr",
     "output_type": "stream",
     "text": [
      "/opt/conda/lib/python3.11/site-packages/sklearn/decomposition/_nmf.py:1759: ConvergenceWarning: Maximum number of iterations 500 reached. Increase it to improve convergence.\n",
      "  warnings.warn(\n"
     ]
    },
    {
     "name": "stdout",
     "output_type": "stream",
     "text": [
      "for 60 components,\tdifference was -0.005556214624960304\n",
      "for 70 components,\tdifference was -1.2160258064367286\n",
      "for 80 components,\tdifference was -0.06644828625234285\n",
      "for 90 components,\tdifference was -0.7306242958837894\n",
      "for 100 components,\tdifference was -1.0302290716116815\n",
      "for 110 components,\tdifference was -2.2923538249743087\n",
      "for 120 components,\tdifference was -1.8467942272615043\n",
      "for 130 components,\tdifference was -1.38379007467878\n",
      "for 140 components,\tdifference was -1.3363583196972104\n",
      "for 150 components,\tdifference was -1.1308926151308711\n",
      "for 160 components,\tdifference was -0.771621811746229\n"
     ]
    },
    {
     "name": "stderr",
     "output_type": "stream",
     "text": [
      "/opt/conda/lib/python3.11/site-packages/sklearn/decomposition/_nmf.py:1759: ConvergenceWarning: Maximum number of iterations 500 reached. Increase it to improve convergence.\n",
      "  warnings.warn(\n"
     ]
    },
    {
     "name": "stdout",
     "output_type": "stream",
     "text": [
      "for 170 components,\tdifference was -0.0038390514643688875\n",
      "for 180 components,\tdifference was -0.7606427229184402\n",
      "for 190 components,\tdifference was -0.8429921559168154\n",
      "for 200 components,\tdifference was -0.5897388822514844\n",
      "Completed!\n"
     ]
    }
   ],
   "source": [
    "# Please be patient, this code is very slow (5 mins).\n",
    "# You can try some small values on range() or max_iter\n",
    "for n_comp in range(20,201,10):\n",
    "    decomposition = NMF(n_components=n_comp, init='random', random_state=2025, max_iter=500)\n",
    "    U = decomposition.fit_transform(utility)\n",
    "    V_T = decomposition.components_\n",
    "    M_ = np.dot(U, V_T)\n",
    "    \n",
    "    # calculate difference between both matrices\n",
    "    diff = utility-M_\n",
    "    print(f\"for {n_comp} components,\\tdifference was {np.sum(diff)}\")\n",
    "    \n",
    "print(\"Completed!\") # this will run for a while, up to a minute or two.\n"
   ]
  },
  {
   "cell_type": "markdown",
   "id": "d77e70b6-f725-4708-9181-31601c71a15a",
   "metadata": {},
   "source": [
    "What does mean of the warning above?"
   ]
  },
  {
   "cell_type": "markdown",
   "id": "9efa726e",
   "metadata": {},
   "source": [
    "more reading here: https://scikit-learn.org/stable/modules/generated/sklearn.decomposition.NMF.html\n",
    "\n",
    "What do you see? is the difference between matrixes getting larger or smaller? is that good?"
   ]
  },
  {
   "cell_type": "markdown",
   "id": "4fecc24e",
   "metadata": {},
   "source": [
    "## Open Questions: Can you store all `diff` and plot a figure, the number of components vs diff, and observe the pattern?"
   ]
  },
  {
   "cell_type": "code",
   "execution_count": null,
   "id": "ea83acbb",
   "metadata": {},
   "outputs": [],
   "source": []
  }
 ],
 "metadata": {
  "kernelspec": {
   "display_name": "Python 3 (ipykernel)",
   "language": "python",
   "name": "python3"
  },
  "language_info": {
   "codemirror_mode": {
    "name": "ipython",
    "version": 3
   },
   "file_extension": ".py",
   "mimetype": "text/x-python",
   "name": "python",
   "nbconvert_exporter": "python",
   "pygments_lexer": "ipython3",
   "version": "3.11.9"
  }
 },
 "nbformat": 4,
 "nbformat_minor": 5
}
