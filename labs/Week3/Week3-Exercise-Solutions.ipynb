{
 "cells": [
  {
   "cell_type": "markdown",
   "id": "6e83cdc3",
   "metadata": {},
   "source": [
    "This notebook is an exploration of data where an anonymised group of people have answered a number of questions about:\n",
    "\n",
    "- how well they know each other student (scale from 1 = don't know them, to 5 = we're best friends)\n",
    "- their student experiences (scale from 1 = I didn't think about doing it, to 5 = I do it almost every day)\n",
    "- their personality traits (scale from 1 = Not like me at all, to 7 = A lot like me)\n",
    "\n",
    "Data in the file looks like this:\n",
    "- unique name,\n",
    " - What is your name?,\n",
    "- personality questions, \n",
    " - \"Anxious, easily upset\",\n",
    " - \"Calm, emotionally stable\",\n",
    " - \"Conventional, uncreative\",\n",
    " - \"Critical, quarrelsome\",\n",
    " - \"Dependable, self-disciplined\",\n",
    " - \"Open to new experiences, complex\",\n",
    " - \"Disorganized, careless\",\n",
    " - \"Extraverted, enthusiastic\",\n",
    " - \"Sympathetic, warm\",\n",
    " - \"Reserved, quiet\",\n",
    "- experience qiestions, \n",
    " - Cooked a meal with others,\n",
    " - Climbed Arthur's Seat,\n",
    " - Cycled,\n",
    " - Danced to the music with others,\n",
    " - Go to Commonwealth Swimming pool,\n",
    " - Go to the university gym (pleasance),\n",
    " - Learned some words in a completely new language,\n",
    " - Made new friends for life,\n",
    " - Performed in a team sports,\n",
    " - Read a fiction book,\n",
    " - Saw a long-haired ginger Scottish cow,\n",
    " - Spoke to a person born in Edinburgh,\n",
    " - Tried eating haggis,\n",
    " - Visited Botanic Gardens,\n",
    " - Visited Castle,\n",
    " - Walk around the meadows,\n",
    " - Went out for a meal with friends,\n",
    " - Went to the cinema,Went to the Student Union,Went to the university library,\n",
    "- familiarity with other students\n",
    " - p0,p1,p10,p11,p12,p13,p14,p15,p16,p17,p18,p19,p2,p20,p21,p22,p23,p24,p25,p26,p27,p28,p29,p3,p4,p5,p6,p7,p8,p9\n",
    "\n",
    "then each row of data will look like this:\n",
    "\n",
    "```\n",
    "p0,6,5,2,2,5,7,2,5,5,4,1,1,1,1,0,0,1,1,1,1,1,1,0,1,0,1,1,1,1,1,5,4,3,2,3,3,3,3,3,4,3,4,3,5,3,3,3,3,3,3,1,4,3,4,4,3,3,4,4,1\n",
    "p1,5,2,5,5,7,7,5,7,7,1,1,1,0,1,0,1,1,1,1,0,0,1,0,0,1,1,1,0,0,1,5,1,5,2,1,2,2,4,5,5,1,4,5,5,5,2,5,1,3,5,5,5,5,5,2,4,4,4,5,5\n",
    "```\n",
    "We will draw some graphs and look at some simple connections between things."
   ]
  },
  {
   "cell_type": "code",
   "execution_count": null,
   "id": "cafab94a",
   "metadata": {},
   "outputs": [],
   "source": [
    "# !pip install --upgrade decorator\n",
    "# !pip install --upgrade networkx\n",
    "# !pip install scipy==1.8.0 # please make sure your scipy version is 1.8.0 in order to run scripy.sparse.coo_array in the package of network\n",
    "# !pip install --upgrade requests"
   ]
  },
  {
   "cell_type": "markdown",
   "id": "0f217005-4cab-45b2-9e98-0392e3192c38",
   "metadata": {},
   "source": [
    "If you get something wrong, please run the above code"
   ]
  },
  {
   "cell_type": "code",
   "execution_count": null,
   "id": "4f5b772f",
   "metadata": {},
   "outputs": [],
   "source": [
    "import networkx as nx\n",
    "import numpy as np\n",
    "import pandas as pd\n",
    "import matplotlib.pyplot as plt\n",
    "import pprint as pp"
   ]
  },
  {
   "cell_type": "markdown",
   "id": "974d1702",
   "metadata": {},
   "source": [
    "# Collect network information from dataframe"
   ]
  },
  {
   "cell_type": "code",
   "execution_count": null,
   "id": "9a4a363b",
   "metadata": {
    "scrolled": true
   },
   "outputs": [],
   "source": [
    "df = pd.read_csv('data/graph_large.csv', index_col = 0)\n",
    "print(df)"
   ]
  },
  {
   "cell_type": "code",
   "execution_count": null,
   "id": "eee1fc16",
   "metadata": {},
   "outputs": [],
   "source": [
    "# Get all columns names\n",
    "col_names = list(df.columns)\n",
    "print(col_names)\n",
    "\n",
    "row_names = df.index.values.tolist()\n",
    "print(row_names)"
   ]
  },
  {
   "cell_type": "code",
   "execution_count": null,
   "id": "8959188d",
   "metadata": {},
   "outputs": [],
   "source": [
    "# First 10 attributes are personality questions\n",
    "personality_questions = col_names[:10]\n",
    "print(personality_questions)"
   ]
  },
  {
   "cell_type": "code",
   "execution_count": null,
   "id": "69a35c9a",
   "metadata": {},
   "outputs": [],
   "source": [
    "# Last 30 attributes are anonymised students\n",
    "people = col_names[-30:]\n",
    "print(people)"
   ]
  },
  {
   "cell_type": "code",
   "execution_count": null,
   "id": "2726a253",
   "metadata": {},
   "outputs": [],
   "source": [
    "# The remaining parts are experience questions\n",
    "experiences_questions = col_names[10:-30]\n",
    "print(experiences_questions)"
   ]
  },
  {
   "cell_type": "markdown",
   "id": "80b52eaf",
   "metadata": {},
   "source": [
    "# Build the network with weights"
   ]
  },
  {
   "cell_type": "markdown",
   "id": "b410423e-5558-4fb3-b9b8-00e94d36db06",
   "metadata": {},
   "source": [
    "Based on the given `df` and its relevant info, please build the network with the weights"
   ]
  },
  {
   "cell_type": "code",
   "execution_count": null,
   "id": "1da2a094",
   "metadata": {
    "scrolled": true
   },
   "outputs": [],
   "source": [
    "DG = nx.DiGraph()\n",
    "for row, row_values in df.iterrows():\n",
    "    print('\\nNode: ', row)\n",
    "    for column, column_values in enumerate(row_values):\n",
    "        #### optional: only keep connections >3\n",
    "        isThisAPersonColumn = df.columns[column] in people\n",
    "        if(column_values > 3 and isThisAPersonColumn): # only connect nodes if this is a 'person' column\n",
    "            print('Connected to ', df.columns[column], ' with weight: ', column_values)\n",
    "            DG.add_edge(row, df.columns[column], weight=column_values)"
   ]
  },
  {
   "cell_type": "markdown",
   "id": "25c55e89",
   "metadata": {},
   "source": [
    "# Visualisation"
   ]
  },
  {
   "cell_type": "code",
   "execution_count": null,
   "id": "7e175fad",
   "metadata": {},
   "outputs": [],
   "source": [
    "plt.rcParams['figure.figsize'] = [15, 15]\n",
    "# Note: we will reuse the same spring layout thoughout the graphs\n",
    "pos = nx.spring_layout(DG)\n",
    "\n",
    "nx.draw(DG, pos, with_labels= True, node_size = 500)\n",
    "plt.show()"
   ]
  },
  {
   "cell_type": "markdown",
   "id": "f60a50b3",
   "metadata": {},
   "source": [
    "# Styling plots with graph metrics"
   ]
  },
  {
   "cell_type": "code",
   "execution_count": null,
   "id": "7687b696",
   "metadata": {},
   "outputs": [],
   "source": [
    "degree = nx.degree_centrality(DG)\n",
    "betweenness = nx.betweenness_centrality(DG)\n",
    "pagerank = nx.pagerank(DG)\n",
    "hits = nx.hits(DG)"
   ]
  },
  {
   "cell_type": "code",
   "execution_count": null,
   "id": "7da6f19a",
   "metadata": {},
   "outputs": [],
   "source": [
    "pp.pprint(degree)\n",
    "\n",
    "# pos = nx.spring_layout(DG)\n",
    "\n",
    "size = [value * 1000 for value in degree.values()]\n",
    "\n",
    "nx.draw(DG, pos, with_labels= True, node_size = size)\n",
    "plt.title(\"Size scaled to degree\")\n",
    "plt.show()"
   ]
  },
  {
   "cell_type": "code",
   "execution_count": null,
   "id": "47505ba3",
   "metadata": {},
   "outputs": [],
   "source": [
    "pp.pprint(betweenness)\n",
    "\n",
    "# pos = nx.spring_layout(DG)\n",
    "\n",
    "size = [value * 10000 for value in betweenness.values()]\n",
    "\n",
    "nx.draw(DG, pos, with_labels= True, node_size = size)\n",
    "plt.title(\"Size scaled to betweenness\")\n",
    "plt.show()"
   ]
  },
  {
   "cell_type": "code",
   "execution_count": null,
   "id": "3912fc06",
   "metadata": {},
   "outputs": [],
   "source": [
    "pp.pprint(pagerank)\n",
    "\n",
    "# pos = nx.spring_layout(DG)\n",
    "\n",
    "size = [value * 10000 for value in pagerank.values()]\n",
    "\n",
    "nx.draw(DG, pos, with_labels= True, node_size = size)\n",
    "plt.title(\"Size scaled to PageRank\")\n",
    "plt.show()"
   ]
  },
  {
   "cell_type": "code",
   "execution_count": null,
   "id": "137a1643",
   "metadata": {},
   "outputs": [],
   "source": [
    "pp.pprint(hits[0])\n",
    "\n",
    "# pos = nx.spring_layout(DG)\n",
    "\n",
    "size = [value * 10000 for value in hits[0].values()]\n",
    "\n",
    "nx.draw(DG, pos, with_labels= True, node_size = size)\n",
    "plt.title(\"Size scaled to hub scores\")\n",
    "plt.show()"
   ]
  },
  {
   "cell_type": "code",
   "execution_count": null,
   "id": "8f961e8a",
   "metadata": {},
   "outputs": [],
   "source": [
    "pp.pprint(hits[1])\n",
    "\n",
    "# pos = nx.spring_layout(DG)\n",
    "\n",
    "size = [value * 10000 for value in hits[1].values()]\n",
    "\n",
    "nx.draw(DG, pos, with_labels= True, node_size = size)\n",
    "plt.title(\"Size scaled to authority scores\")\n",
    "plt.show()"
   ]
  },
  {
   "cell_type": "markdown",
   "id": "4ec0f473",
   "metadata": {},
   "source": [
    "# Look at experience and personality"
   ]
  },
  {
   "cell_type": "code",
   "execution_count": null,
   "id": "1d834415",
   "metadata": {
    "scrolled": true
   },
   "outputs": [],
   "source": [
    "# this cell will take a long time to render.\n",
    "# if your notebook froze completely, in the menu you can Kernel > Restart\n",
    "\n",
    "print(\"Edinburgh Experiences\")\n",
    "\n",
    "# pos = nx.spring_layout(DG)\n",
    "\n",
    "# experiences_questions personality_questions\n",
    "size = [value * 500 for value in degree.values()]\n",
    "\n",
    "\"\"\"\n",
    "Please be patient, the code needs some times to plot ALL\n",
    "\"\"\" \n",
    "for experience in experiences_questions:\n",
    "    colors =  ['red' if value == 1 else 'grey' for value in df[experience]]\n",
    "    nx.draw(DG, pos, with_labels= True, node_size = size, node_color = colors)\n",
    "    plt.title(f\"Size scaled to {experience}\")\n",
    "    plt.show()"
   ]
  },
  {
   "cell_type": "code",
   "execution_count": null,
   "id": "702563af",
   "metadata": {
    "scrolled": true
   },
   "outputs": [],
   "source": [
    "print(\"personality\")\n",
    "\n",
    "# pos = nx.spring_layout(DG)\n",
    "\n",
    "\"\"\"\n",
    "Please be patient, the code needs some times to plot ALL\n",
    "\"\"\" \n",
    "\n",
    "for personality in personality_questions:\n",
    "    size = [value * 500 for value in df[personality]]\n",
    "    nx.draw(DG, pos, with_labels= True, node_size = size, cmap=plt.cm.Blues)\n",
    "    plt.title(f\"Size scaled to {personality}\")\n",
    "    plt.show()"
   ]
  },
  {
   "cell_type": "markdown",
   "id": "46beb8c2",
   "metadata": {},
   "source": [
    "# Do you have any better visualistion idea?"
   ]
  },
  {
   "cell_type": "code",
   "execution_count": null,
   "id": "ed6b3ca5",
   "metadata": {},
   "outputs": [],
   "source": []
  }
 ],
 "metadata": {
  "kernelspec": {
   "display_name": "Python 3 (ipykernel)",
   "language": "python",
   "name": "python3"
  },
  "language_info": {
   "codemirror_mode": {
    "name": "ipython",
    "version": 3
   },
   "file_extension": ".py",
   "mimetype": "text/x-python",
   "name": "python",
   "nbconvert_exporter": "python",
   "pygments_lexer": "ipython3",
   "version": "3.11.9"
  }
 },
 "nbformat": 4,
 "nbformat_minor": 5
}
